{
 "cells": [
  {
   "cell_type": "code",
   "execution_count": 1,
   "id": "b18c051c",
   "metadata": {},
   "outputs": [],
   "source": [
    "import PIL\n",
    "import os\n",
    "from PIL import Image\n",
    "import numpy as np\n",
    "from matplotlib import pyplot as plt\n",
    "import cv2"
   ]
  },
  {
   "cell_type": "code",
   "execution_count": 2,
   "id": "0968ab97",
   "metadata": {},
   "outputs": [],
   "source": [
    "f = r'Test_img'"
   ]
  },
  {
   "cell_type": "code",
   "execution_count": 6,
   "id": "49c5e631",
   "metadata": {},
   "outputs": [
    {
     "name": "stdout",
     "output_type": "stream",
     "text": [
      "28_28.jpg\n"
     ]
    }
   ],
   "source": [
    "for file in os.listdir(f):\n",
    "    print(file)"
   ]
  },
  {
   "cell_type": "code",
   "execution_count": 7,
   "id": "a7f32350",
   "metadata": {},
   "outputs": [
    {
     "name": "stdout",
     "output_type": "stream",
     "text": [
      "width 1536\n",
      "height 864\n"
     ]
    }
   ],
   "source": [
    "for file in os.listdir(f):\n",
    "    f_img = f+\"/\"+file\n",
    "    img = Image.open(f_img)\n",
    "    width, height = img.size\n",
    "    print(\"width\",width)\n",
    "    print(\"height\",height)"
   ]
  },
  {
   "cell_type": "code",
   "execution_count": 8,
   "id": "1238151f",
   "metadata": {},
   "outputs": [],
   "source": [
    "for file in os.listdir(f):\n",
    "    f_img = f+\"/\"+file\n",
    "    img = Image.open(f_img)\n",
    "    width, height = img.size\n",
    "    left = 336\n",
    "    top = 0\n",
    "    right = width-336\n",
    "    bottom = height\n",
    "    img = img.crop((left, top, right, bottom))\n",
    "    img.save(f_img)"
   ]
  },
  {
   "cell_type": "code",
   "execution_count": 9,
   "id": "ea808bf5",
   "metadata": {},
   "outputs": [],
   "source": [
    "for file in os.listdir(f):\n",
    "    f_img = f+\"/\"+file\n",
    "    img = Image.open(f_img)\n",
    "    width, height = img.size\n",
    "    left = 173\n",
    "    top = height / 5\n",
    "    right = width\n",
    "    bottom = height\n",
    "    img = img.crop((left, top, right, bottom))\n",
    "    img.save(f_img)"
   ]
  },
  {
   "cell_type": "code",
   "execution_count": 10,
   "id": "47feec98",
   "metadata": {},
   "outputs": [
    {
     "name": "stdout",
     "output_type": "stream",
     "text": [
      "width, 691\n",
      "height, 691\n"
     ]
    }
   ],
   "source": [
    "for file in os.listdir(f):\n",
    "    f_img = f+\"/\"+file\n",
    "    img = Image.open(f_img)\n",
    "    width, height = img.size\n",
    "    print(\"width,\" , width)\n",
    "    print(\"height,\" , height)"
   ]
  },
  {
   "cell_type": "code",
   "execution_count": 11,
   "id": "e235a945",
   "metadata": {},
   "outputs": [],
   "source": [
    "for file in os.listdir(f):\n",
    "    f_img = f+\"/\"+file\n",
    "    img = cv2.imread(f_img)\n",
    "    median = cv2.medianBlur(img,(5))\n",
    "    kernel = np.ones((5,5), np.float32)/25\n",
    "    filt = cv2.filter2D(img, -1, kernel)\n",
    "    gray = cv2.cvtColor(filt, cv2.COLOR_BGR2GRAY)\n",
    "    cv2.imwrite(f_img,gray)\n",
    "    "
   ]
  },
  {
   "cell_type": "code",
   "execution_count": 12,
   "id": "6edc51a4",
   "metadata": {},
   "outputs": [
    {
     "name": "stdout",
     "output_type": "stream",
     "text": [
      "width, 691\n",
      "height, 691\n"
     ]
    }
   ],
   "source": [
    "for file in os.listdir(f):\n",
    "    f_img = f+\"/\"+file\n",
    "    img = Image.open(f_img)\n",
    "    width, height = img.size\n",
    "    print(\"width,\" , width)\n",
    "    print(\"height,\" , height)"
   ]
  },
  {
   "cell_type": "code",
   "execution_count": null,
   "id": "3863b017",
   "metadata": {},
   "outputs": [],
   "source": []
  }
 ],
 "metadata": {
  "kernelspec": {
   "display_name": "Python 3",
   "language": "python",
   "name": "python3"
  },
  "language_info": {
   "codemirror_mode": {
    "name": "ipython",
    "version": 3
   },
   "file_extension": ".py",
   "mimetype": "text/x-python",
   "name": "python",
   "nbconvert_exporter": "python",
   "pygments_lexer": "ipython3",
   "version": "3.8.8"
  }
 },
 "nbformat": 4,
 "nbformat_minor": 5
}
