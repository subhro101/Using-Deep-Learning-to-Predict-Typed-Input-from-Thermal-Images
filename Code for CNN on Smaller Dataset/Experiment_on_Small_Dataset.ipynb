{
  "nbformat": 4,
  "nbformat_minor": 0,
  "metadata": {
    "colab": {
      "name": "Experiment on Small Dataset",
      "provenance": [],
      "collapsed_sections": []
    },
    "kernelspec": {
      "name": "python3",
      "display_name": "Python 3"
    },
    "language_info": {
      "name": "python"
    }
  },
  "cells": [
    {
      "cell_type": "markdown",
      "source": [
        "# **Motive behind Version:** \n",
        "\n",
        "This version of the code runs a similar neural network as the origninal code. However the data used only consists of 9 classes (typed phrases/passwords). Additionally this dataset only contains high quality thermal images to emulate a more controlled setup. This is done to validate the efficiency of the neural network itself and conclude that the poorer accuracy rates in the original version is a result of the data and the not the quality of the Neural Network"
      ],
      "metadata": {
        "id": "T2TzeV1Rs5bZ"
      }
    },
    {
      "cell_type": "markdown",
      "source": [
        "# **Part 1 - Importing Necessary libraries**  \n",
        "\n",
        "Here we import all the necessary libraries"
      ],
      "metadata": {
        "id": "sD06N3dEtBz4"
      }
    },
    {
      "cell_type": "code",
      "source": [
        "#Load libraries\n",
        "import os\n",
        "import numpy as np\n",
        "import torch\n",
        "import glob\n",
        "import torch.nn as nn\n",
        "from torchvision.transforms import transforms\n",
        "from torch.utils.data import DataLoader\n",
        "from torch.optim import Adam\n",
        "from torch.autograd import Variable\n",
        "import torchvision\n",
        "import pathlib\n",
        "from pandas import read_csv\n",
        "from __future__ import print_function\n",
        "import pandas as pd\n",
        "import shutil\n",
        "import os\n",
        "import sys\n",
        "from os.path import join\n"
      ],
      "metadata": {
        "id": "_4JZuOaXs-RT"
      },
      "execution_count": 15,
      "outputs": []
    },
    {
      "cell_type": "markdown",
      "source": [
        "# **Part 2 - Importing the necessary image data and CSV files**  \n",
        "\n",
        "This section has the following functions - \n",
        "\n",
        "\n",
        "*   First we get the labels of the data from the csv file.\n",
        "*   The obtained labels are then separated into Training and testing sets (8:2)\n",
        "\n",
        "*   A small check is done to see whether the training and testing sets have the same number of unique classes.\n",
        "*   The images are now separated into two different folders based on training and testing lists. \n"
      ],
      "metadata": {
        "id": "DPoicBM71OZW"
      }
    },
    {
      "cell_type": "code",
      "source": [
        "map_file = read_csv('/content/drive/MyDrive/Colab Notebooks/Thermal Image/Version 4 - Small Dataset/Train.csv')\n",
        "length = len(map_file)\n",
        "print(length)\n",
        "labels = set()\n",
        "for i in range(len(map_file)):\n",
        "    # convert spaced separated tags into an array of tags\n",
        "    type = map_file['Password'][i].split('\\n')\n",
        "    # add tags to the set of known labels\n",
        "    labels.update(type)\n",
        "#print(labels)\n",
        "labels = list(labels)\n",
        "labels.sort()\n",
        "classes = labels\n",
        "classes"
      ],
      "metadata": {
        "colab": {
          "base_uri": "https://localhost:8080/"
        },
        "id": "rg8FdZXgtF55",
        "outputId": "c30c2fcb-36f0-402e-d28d-a6db31eee94a"
      },
      "execution_count": 16,
      "outputs": [
        {
          "output_type": "stream",
          "name": "stdout",
          "text": [
            "126\n"
          ]
        },
        {
          "output_type": "execute_result",
          "data": {
            "text/plain": [
              "['1?wb:J5c6X[-5az7',\n",
              " '3}fW8&tR4bmdY_b7',\n",
              " 'End by win a pun!',\n",
              " 'Rh(3q4aRmWx!R)e',\n",
              " 'The big dwarf only jumps?',\n",
              " 'The world is a stage!',\n",
              " 'gareth_king@post.cd',\n",
              " 'gwen_king@post.com',\n",
              " 'kyle_king@post.uk']"
            ]
          },
          "metadata": {},
          "execution_count": 16
        }
      ]
    },
    {
      "cell_type": "code",
      "source": [
        "train_dir =r'/content/drive/MyDrive/Colab Notebooks/Thermal Image/Version 4 - Small Dataset/Image Data'\n",
        "test_dir =r'/content/drive/MyDrive/Colab Notebooks/Thermal Image/Version 4 - Small Dataset/Image Data'\n",
        "#Please make sure to change the path in the above line during testing when testing\n",
        "train_path = r\"train_label\"\n",
        "test_path =  r\"test_label\"\n",
        "if not os.path.exists(train_path):\n",
        "    os.mkdir(train_path)\n",
        "\n",
        "if not os.path.exists(test_path):\n",
        "    os.mkdir(test_path)"
      ],
      "metadata": {
        "id": "yHBdgWbytMKe"
      },
      "execution_count": 22,
      "outputs": []
    },
    {
      "cell_type": "markdown",
      "source": [
        "#### **Disclaimer during testing : Please check the path of the training and testing directory, and the CSV files. As mentioned in the user guide, please copy the path from your drive for the directory containing the images and the CSV files.**"
      ],
      "metadata": {
        "id": "yXZgoycb12A-"
      }
    },
    {
      "cell_type": "markdown",
      "source": [
        "##**Subpart 1**\n",
        "\n",
        "The images are divided into training and testing directories depending on the training and testing labels. "
      ],
      "metadata": {
        "id": "mDb0UMRp2bM2"
      }
    },
    {
      "cell_type": "code",
      "source": [
        "for i in range(2):\n",
        "  ran = np.random.RandomState()\n",
        "  training_labels = map_file.sample(frac=0.8, random_state=ran)\n",
        "  testing_labels = map_file.loc[~map_file.index.isin(training_labels.index)]\n",
        "  training_label_class = []\n",
        "  testing_label_class = []\n",
        "  for File_Name, Class_Name in training_labels.values:\n",
        "    if Class_Name not in training_label_class:\n",
        "        training_label_class.append(Class_Name)\n",
        "        \n",
        "\n",
        "  for File_Name, Class_Name in testing_labels.values:\n",
        "    if Class_Name not in testing_label_class:\n",
        "        testing_label_class.append(Class_Name)\n",
        "\n",
        "  for File_Name, Class_Name in training_labels.values:\n",
        "    # Create subdirectory with `Class_Name`\n",
        "    if not os.path.exists(train_path + '/'+ str(Class_Name)):\n",
        "        os.mkdir(train_path + '/'+ str(Class_Name))\n",
        "    src_path = train_dir + '/'+ str(File_Name) + '.jpg'\n",
        "    dst_path = train_path + '/'+ str(Class_Name) + '/' + str(File_Name) + '.jpg'\n",
        "    try:\n",
        "        shutil.copy(src_path, dst_path)\n",
        "        print(\"File Transfer Successful\")\n",
        "    except:\n",
        "        print('Error')\n",
        "        \n",
        "  for File_Name, Class_Name in testing_labels.values:\n",
        "    # Create subdirectory with `Class_Name`\n",
        "    if not os.path.exists(test_path + '/'+ str(Class_Name)):\n",
        "        os.mkdir(test_path + '/'+ str(Class_Name))\n",
        "    src_path = test_dir + '/'+ str(File_Name) + '.jpg'\n",
        "    dst_path = test_path + '/'+ str(Class_Name) + '/' + str(File_Name) + '.jpg'\n",
        "    try:\n",
        "        shutil.copy(src_path, dst_path)\n",
        "        print(\"File Transfer Successful\")\n",
        "    except:\n",
        "        print('Error')\n",
        "\n",
        "\n",
        "\n",
        "        "
      ],
      "metadata": {
        "colab": {
          "base_uri": "https://localhost:8080/"
        },
        "id": "OsVMlFNetohp",
        "outputId": "431d9ac8-30d9-4e14-ba56-cea10dcc8040"
      },
      "execution_count": 23,
      "outputs": [
        {
          "output_type": "stream",
          "name": "stdout",
          "text": [
            "File Transfer Successful\n",
            "File Transfer Successful\n",
            "File Transfer Successful\n",
            "File Transfer Successful\n",
            "File Transfer Successful\n",
            "File Transfer Successful\n",
            "File Transfer Successful\n",
            "File Transfer Successful\n",
            "File Transfer Successful\n",
            "File Transfer Successful\n",
            "File Transfer Successful\n",
            "File Transfer Successful\n",
            "File Transfer Successful\n",
            "File Transfer Successful\n",
            "File Transfer Successful\n",
            "File Transfer Successful\n",
            "File Transfer Successful\n",
            "File Transfer Successful\n",
            "File Transfer Successful\n",
            "File Transfer Successful\n",
            "File Transfer Successful\n",
            "File Transfer Successful\n",
            "File Transfer Successful\n",
            "File Transfer Successful\n",
            "File Transfer Successful\n",
            "File Transfer Successful\n",
            "File Transfer Successful\n",
            "File Transfer Successful\n",
            "File Transfer Successful\n",
            "File Transfer Successful\n",
            "File Transfer Successful\n",
            "File Transfer Successful\n",
            "File Transfer Successful\n",
            "File Transfer Successful\n",
            "File Transfer Successful\n",
            "File Transfer Successful\n",
            "File Transfer Successful\n",
            "File Transfer Successful\n",
            "File Transfer Successful\n",
            "File Transfer Successful\n",
            "File Transfer Successful\n",
            "File Transfer Successful\n",
            "File Transfer Successful\n",
            "File Transfer Successful\n",
            "File Transfer Successful\n",
            "File Transfer Successful\n",
            "File Transfer Successful\n",
            "File Transfer Successful\n",
            "File Transfer Successful\n",
            "File Transfer Successful\n",
            "File Transfer Successful\n",
            "File Transfer Successful\n",
            "File Transfer Successful\n",
            "File Transfer Successful\n",
            "File Transfer Successful\n",
            "File Transfer Successful\n",
            "File Transfer Successful\n",
            "File Transfer Successful\n",
            "File Transfer Successful\n",
            "File Transfer Successful\n",
            "File Transfer Successful\n",
            "File Transfer Successful\n",
            "File Transfer Successful\n",
            "File Transfer Successful\n",
            "File Transfer Successful\n",
            "File Transfer Successful\n",
            "File Transfer Successful\n",
            "File Transfer Successful\n",
            "File Transfer Successful\n",
            "File Transfer Successful\n",
            "File Transfer Successful\n",
            "File Transfer Successful\n",
            "File Transfer Successful\n",
            "File Transfer Successful\n",
            "File Transfer Successful\n",
            "File Transfer Successful\n",
            "File Transfer Successful\n",
            "File Transfer Successful\n",
            "File Transfer Successful\n",
            "File Transfer Successful\n",
            "File Transfer Successful\n",
            "File Transfer Successful\n",
            "File Transfer Successful\n",
            "File Transfer Successful\n",
            "File Transfer Successful\n",
            "File Transfer Successful\n",
            "File Transfer Successful\n",
            "File Transfer Successful\n",
            "File Transfer Successful\n",
            "File Transfer Successful\n",
            "File Transfer Successful\n",
            "File Transfer Successful\n",
            "File Transfer Successful\n",
            "File Transfer Successful\n",
            "File Transfer Successful\n",
            "File Transfer Successful\n",
            "File Transfer Successful\n",
            "File Transfer Successful\n",
            "File Transfer Successful\n",
            "File Transfer Successful\n",
            "File Transfer Successful\n",
            "File Transfer Successful\n",
            "File Transfer Successful\n",
            "File Transfer Successful\n",
            "File Transfer Successful\n",
            "File Transfer Successful\n",
            "File Transfer Successful\n",
            "File Transfer Successful\n",
            "File Transfer Successful\n",
            "File Transfer Successful\n",
            "File Transfer Successful\n",
            "File Transfer Successful\n",
            "File Transfer Successful\n",
            "File Transfer Successful\n",
            "File Transfer Successful\n",
            "File Transfer Successful\n",
            "File Transfer Successful\n",
            "File Transfer Successful\n",
            "File Transfer Successful\n",
            "File Transfer Successful\n",
            "File Transfer Successful\n",
            "File Transfer Successful\n",
            "File Transfer Successful\n",
            "File Transfer Successful\n",
            "File Transfer Successful\n",
            "File Transfer Successful\n",
            "File Transfer Successful\n",
            "File Transfer Successful\n",
            "File Transfer Successful\n",
            "File Transfer Successful\n",
            "File Transfer Successful\n",
            "File Transfer Successful\n",
            "File Transfer Successful\n",
            "File Transfer Successful\n",
            "File Transfer Successful\n",
            "File Transfer Successful\n",
            "File Transfer Successful\n",
            "File Transfer Successful\n",
            "File Transfer Successful\n",
            "File Transfer Successful\n",
            "File Transfer Successful\n",
            "File Transfer Successful\n",
            "File Transfer Successful\n",
            "File Transfer Successful\n",
            "File Transfer Successful\n",
            "File Transfer Successful\n",
            "File Transfer Successful\n",
            "File Transfer Successful\n",
            "File Transfer Successful\n",
            "File Transfer Successful\n",
            "File Transfer Successful\n",
            "File Transfer Successful\n",
            "File Transfer Successful\n",
            "File Transfer Successful\n",
            "File Transfer Successful\n",
            "File Transfer Successful\n",
            "File Transfer Successful\n",
            "File Transfer Successful\n",
            "File Transfer Successful\n",
            "File Transfer Successful\n",
            "File Transfer Successful\n",
            "File Transfer Successful\n",
            "File Transfer Successful\n",
            "File Transfer Successful\n",
            "File Transfer Successful\n",
            "File Transfer Successful\n",
            "File Transfer Successful\n",
            "File Transfer Successful\n",
            "File Transfer Successful\n",
            "File Transfer Successful\n",
            "File Transfer Successful\n",
            "File Transfer Successful\n",
            "File Transfer Successful\n",
            "File Transfer Successful\n",
            "File Transfer Successful\n",
            "File Transfer Successful\n",
            "File Transfer Successful\n",
            "File Transfer Successful\n",
            "File Transfer Successful\n",
            "File Transfer Successful\n",
            "File Transfer Successful\n",
            "File Transfer Successful\n",
            "File Transfer Successful\n",
            "File Transfer Successful\n",
            "File Transfer Successful\n",
            "File Transfer Successful\n",
            "File Transfer Successful\n",
            "File Transfer Successful\n",
            "File Transfer Successful\n",
            "File Transfer Successful\n",
            "File Transfer Successful\n",
            "File Transfer Successful\n",
            "File Transfer Successful\n",
            "File Transfer Successful\n",
            "File Transfer Successful\n",
            "File Transfer Successful\n",
            "File Transfer Successful\n",
            "File Transfer Successful\n",
            "File Transfer Successful\n",
            "File Transfer Successful\n",
            "File Transfer Successful\n",
            "File Transfer Successful\n",
            "File Transfer Successful\n",
            "File Transfer Successful\n",
            "File Transfer Successful\n",
            "File Transfer Successful\n",
            "File Transfer Successful\n",
            "File Transfer Successful\n",
            "File Transfer Successful\n",
            "File Transfer Successful\n",
            "File Transfer Successful\n",
            "File Transfer Successful\n",
            "File Transfer Successful\n",
            "File Transfer Successful\n",
            "File Transfer Successful\n",
            "File Transfer Successful\n",
            "File Transfer Successful\n",
            "File Transfer Successful\n",
            "File Transfer Successful\n",
            "File Transfer Successful\n",
            "File Transfer Successful\n",
            "File Transfer Successful\n",
            "File Transfer Successful\n",
            "File Transfer Successful\n",
            "File Transfer Successful\n",
            "File Transfer Successful\n",
            "File Transfer Successful\n",
            "File Transfer Successful\n",
            "File Transfer Successful\n",
            "File Transfer Successful\n",
            "File Transfer Successful\n",
            "File Transfer Successful\n",
            "File Transfer Successful\n",
            "File Transfer Successful\n",
            "File Transfer Successful\n",
            "File Transfer Successful\n",
            "File Transfer Successful\n",
            "File Transfer Successful\n",
            "File Transfer Successful\n",
            "File Transfer Successful\n",
            "File Transfer Successful\n",
            "File Transfer Successful\n",
            "File Transfer Successful\n",
            "File Transfer Successful\n",
            "File Transfer Successful\n",
            "File Transfer Successful\n",
            "File Transfer Successful\n",
            "File Transfer Successful\n",
            "File Transfer Successful\n",
            "File Transfer Successful\n",
            "File Transfer Successful\n",
            "File Transfer Successful\n"
          ]
        }
      ]
    },
    {
      "cell_type": "markdown",
      "source": [
        "# **Part 3 - Designing the Neural Network**  \n",
        "\n",
        "Now we start designing the Neural Network. We chose to use Convolutional Neural Network which was designed using the PyTorch Library. \n"
      ],
      "metadata": {
        "id": "QQI9rZSM20EG"
      }
    },
    {
      "cell_type": "markdown",
      "source": [
        "#### **Subpart 1**\n",
        "\n",
        "\n",
        "*   \n",
        "We define a transfomer and that resizes the image and transforms the file to tensor\n",
        "*   We also check if the device is running on cuda or CPU\n",
        "\n"
      ],
      "metadata": {
        "id": "4wvJwdWE3QI2"
      }
    },
    {
      "cell_type": "code",
      "source": [
        "use_cuda = True\n",
        "device = torch.device(\"cuda\" if (use_cuda and torch.cuda.is_available()) else \"cpu\")\n",
        "print(\"device type : \",device)\n",
        "transformer=transforms.Compose([\n",
        "    transforms.Resize((64,64)),\n",
        "    transforms.ToTensor(), \n",
        "])"
      ],
      "metadata": {
        "colab": {
          "base_uri": "https://localhost:8080/"
        },
        "id": "wywhdFaRvKFH",
        "outputId": "993c133a-66db-4861-db28-1ef58470f783"
      },
      "execution_count": 24,
      "outputs": [
        {
          "output_type": "stream",
          "name": "stdout",
          "text": [
            "device type :  cpu\n"
          ]
        }
      ]
    },
    {
      "cell_type": "markdown",
      "source": [
        "#### **Subpart 2**\n",
        "\n",
        "\n",
        "We now load the data\n",
        "\n"
      ],
      "metadata": {
        "id": "lKsWckz439cG"
      }
    },
    {
      "cell_type": "code",
      "source": [
        "Dataloader_training=DataLoader(\n",
        "    torchvision.datasets.ImageFolder(train_path,transform=transformer),\n",
        "    batch_size=8, shuffle=True\n",
        ")\n",
        "Dataloader_testing=DataLoader(\n",
        "    torchvision.datasets.ImageFolder(test_path,transform=transformer),\n",
        "    batch_size=4, shuffle=True\n",
        ")"
      ],
      "metadata": {
        "id": "mRuCpUtOv_dO"
      },
      "execution_count": 25,
      "outputs": []
    },
    {
      "cell_type": "markdown",
      "source": [
        "#### **Subpart 3 - The CNN Network**\n",
        "\n",
        "Unlike the network with the original dataset, this one only classifies 9 labels. \n",
        "\n",
        "\n"
      ],
      "metadata": {
        "id": "sWcAimbY4D82"
      }
    },
    {
      "cell_type": "code",
      "source": [
        "class ConvNet(nn.Module):\n",
        "    def __init__(self,num_classes=9):\n",
        "        super(ConvNet,self).__init__()\n",
        "        \n",
        "        self.conv1=nn.Conv2d(in_channels=3,out_channels=10,kernel_size=3,stride=1,padding=1)\n",
        "        self.bn1=nn.BatchNorm2d(num_features=10)\n",
        "        self.relu1=nn.ReLU()  \n",
        "        \n",
        "        self.pool=nn.MaxPool2d(kernel_size=2)\n",
        "        \n",
        "        self.conv2=nn.Conv2d(in_channels=10,out_channels=24,kernel_size=3,stride=1,padding=1)\n",
        "        self.relu2=nn.ReLU()\n",
        "    \n",
        "        self.conv3=nn.Conv2d(in_channels=24,out_channels=32,kernel_size=3,stride=1,padding=1)\n",
        "        self.bn3=nn.BatchNorm2d(num_features=32)\n",
        "        self.relu3=nn.ReLU()\n",
        "        self.fc=nn.Linear(in_features=32 **3,out_features=num_classes)\n",
        "        \n",
        "        #Feed forwad function\n",
        "        \n",
        "    def forward(self,input):\n",
        "        output=self.conv1(input)\n",
        "        output=self.bn1(output)\n",
        "        output=self.relu1(output)\n",
        "            \n",
        "        output=self.pool(output)\n",
        "            \n",
        "        output=self.conv2(output)\n",
        "        output=self.relu2(output)\n",
        "            \n",
        "        output=self.conv3(output)\n",
        "        output=self.bn3(output)\n",
        "        output=self.relu3(output)\n",
        "             \n",
        "        output=output.view(-1,32**3)\n",
        "                \n",
        "        output=self.fc(output)\n",
        "            \n",
        "        return output"
      ],
      "metadata": {
        "id": "QS1i6T3QwPHf"
      },
      "execution_count": 26,
      "outputs": []
    },
    {
      "cell_type": "code",
      "source": [
        "model=ConvNet(num_classes=9).to(device)"
      ],
      "metadata": {
        "id": "SxHgnlgBwSW-"
      },
      "execution_count": 27,
      "outputs": []
    },
    {
      "cell_type": "code",
      "source": [
        "import torch.optim as optim\n",
        "optimizer = optim.SGD(model.parameters(), lr=0.001)\n",
        "loss_fn = nn.CrossEntropyLoss()"
      ],
      "metadata": {
        "id": "u3BQ9xPXwVx0"
      },
      "execution_count": 28,
      "outputs": []
    },
    {
      "cell_type": "code",
      "source": [
        "from sklearn.metrics import confusion_matrix\n",
        "import seaborn as sn\n",
        "import pandas as pd\n",
        "epoch_count = 50\n",
        "\n"
      ],
      "metadata": {
        "id": "a15fl0pawXQl"
      },
      "execution_count": 29,
      "outputs": []
    },
    {
      "cell_type": "code",
      "source": [
        "train_count=len(glob.glob(train_path+'/**/*.jpg'))\n",
        "test_count=len(glob.glob(test_path+'/**/*.jpg'))"
      ],
      "metadata": {
        "id": "C8Rk1EWTwZEh"
      },
      "execution_count": 30,
      "outputs": []
    },
    {
      "cell_type": "markdown",
      "source": [
        "# **Part 4 - Training and Testing the Network**  \n",
        "\n",
        "The network is trained and tested 50 times and the best result in terms of accuracy is retained.\n"
      ],
      "metadata": {
        "id": "JIz-mexd4sF-"
      }
    },
    {
      "cell_type": "code",
      "source": [
        "best_accuracy=0.0\n",
        "predlist_final=[]\n",
        "lbllist_final=[]\n",
        "\n",
        "for epoch in range(epoch_count):\n",
        "    predlist=[]\n",
        "    lbllist=[]\n",
        "    #Evaluation and training on training dataset\n",
        "    model.train()\n",
        "    train_accuracy=0.0\n",
        "    train_loss=0.0\n",
        "    \n",
        "    for i, (images,labels) in enumerate(Dataloader_training):\n",
        "        if torch.cuda.is_available():\n",
        "            images=Variable(images.cuda())\n",
        "            labels=Variable(labels.cuda())\n",
        "            \n",
        "        optimizer.zero_grad()\n",
        "        \n",
        "        outputs=model(images)\n",
        "        loss=loss_fn(outputs,labels)\n",
        "        loss.backward()\n",
        "        optimizer.step()\n",
        "        \n",
        "        \n",
        "        train_loss+= loss.cpu().data*images.size(0)\n",
        "        _,prediction=torch.max(outputs.data,1)\n",
        "        \n",
        "        train_accuracy+=int(torch.sum(prediction==labels.data))\n",
        "        \n",
        "    train_accuracy=train_accuracy/train_count\n",
        "    train_loss=train_loss/train_count\n",
        "    \n",
        "    \n",
        "    # Evaluation on testing dataset\n",
        "    model.eval()\n",
        "    \n",
        "    test_accuracy=0.0\n",
        "    for i, (images,labels) in enumerate(Dataloader_testing):\n",
        "        if torch.cuda.is_available():\n",
        "            images=Variable(images.cuda())\n",
        "            labels=Variable(labels.cuda())\n",
        "            \n",
        "        outputs=model(images)\n",
        "        _,prediction=torch.max(outputs.data,1)\n",
        "        test_accuracy+=int(torch.sum(prediction==labels.data))\n",
        "        predlist.extend(prediction)\n",
        "        lbllist.extend(labels.data)\n",
        "    test_accuracy=test_accuracy/test_count\n",
        "    \n",
        "    \n",
        "    print('Iteration: '+str(epoch)+'\\nTrain Loss: '+str(train_loss)+'\\nTrain Accuracy: '+str(train_accuracy)+'\\nTest Accuracy: '+str(test_accuracy))\n",
        "    print(\"\\n\\n\")\n",
        "    #Save the best model\n",
        "    if test_accuracy>best_accuracy:\n",
        "        torch.save(model.state_dict(),'best_checkpoint.model')\n",
        "        best_accuracy=test_accuracy\n",
        "        predlist_final.clear()\n",
        "        lbllist_final.clear()\n",
        "        predlist_final = predlist[:]\n",
        "        lbllist_final = lbllist\n"
      ],
      "metadata": {
        "colab": {
          "base_uri": "https://localhost:8080/"
        },
        "id": "noj2Homwwa78",
        "outputId": "b392f452-f4d2-48f0-8e0d-6e801e5adfb4"
      },
      "execution_count": 31,
      "outputs": [
        {
          "output_type": "stream",
          "name": "stdout",
          "text": [
            "Iteration: 0\n",
            "Train Loss: tensor(2.9589)\n",
            "Train Accuracy: 0.08943089430894309\n",
            "Test Accuracy: 0.19148936170212766\n",
            "\n",
            "\n",
            "\n",
            "Iteration: 1\n",
            "Train Loss: tensor(2.3936)\n",
            "Train Accuracy: 0.2032520325203252\n",
            "Test Accuracy: 0.1276595744680851\n",
            "\n",
            "\n",
            "\n",
            "Iteration: 2\n",
            "Train Loss: tensor(2.0895)\n",
            "Train Accuracy: 0.2845528455284553\n",
            "Test Accuracy: 0.1276595744680851\n",
            "\n",
            "\n",
            "\n",
            "Iteration: 3\n",
            "Train Loss: tensor(1.7864)\n",
            "Train Accuracy: 0.43089430894308944\n",
            "Test Accuracy: 0.2978723404255319\n",
            "\n",
            "\n",
            "\n",
            "Iteration: 4\n",
            "Train Loss: tensor(1.6785)\n",
            "Train Accuracy: 0.4715447154471545\n",
            "Test Accuracy: 0.7021276595744681\n",
            "\n",
            "\n",
            "\n",
            "Iteration: 5\n",
            "Train Loss: tensor(1.3284)\n",
            "Train Accuracy: 0.6422764227642277\n",
            "Test Accuracy: 0.5531914893617021\n",
            "\n",
            "\n",
            "\n",
            "Iteration: 6\n",
            "Train Loss: tensor(1.2943)\n",
            "Train Accuracy: 0.6178861788617886\n",
            "Test Accuracy: 0.6808510638297872\n",
            "\n",
            "\n",
            "\n",
            "Iteration: 7\n",
            "Train Loss: tensor(1.0907)\n",
            "Train Accuracy: 0.7317073170731707\n",
            "Test Accuracy: 0.6170212765957447\n",
            "\n",
            "\n",
            "\n",
            "Iteration: 8\n",
            "Train Loss: tensor(0.9347)\n",
            "Train Accuracy: 0.7804878048780488\n",
            "Test Accuracy: 0.7659574468085106\n",
            "\n",
            "\n",
            "\n",
            "Iteration: 9\n",
            "Train Loss: tensor(0.8870)\n",
            "Train Accuracy: 0.8130081300813008\n",
            "Test Accuracy: 0.8297872340425532\n",
            "\n",
            "\n",
            "\n",
            "Iteration: 10\n",
            "Train Loss: tensor(0.7545)\n",
            "Train Accuracy: 0.8373983739837398\n",
            "Test Accuracy: 0.851063829787234\n",
            "\n",
            "\n",
            "\n",
            "Iteration: 11\n",
            "Train Loss: tensor(0.7028)\n",
            "Train Accuracy: 0.8211382113821138\n",
            "Test Accuracy: 0.8085106382978723\n",
            "\n",
            "\n",
            "\n",
            "Iteration: 12\n",
            "Train Loss: tensor(0.6368)\n",
            "Train Accuracy: 0.8617886178861789\n",
            "Test Accuracy: 0.8085106382978723\n",
            "\n",
            "\n",
            "\n",
            "Iteration: 13\n",
            "Train Loss: tensor(0.5817)\n",
            "Train Accuracy: 0.8699186991869918\n",
            "Test Accuracy: 0.9361702127659575\n",
            "\n",
            "\n",
            "\n",
            "Iteration: 14\n",
            "Train Loss: tensor(0.5013)\n",
            "Train Accuracy: 0.926829268292683\n",
            "Test Accuracy: 0.7659574468085106\n",
            "\n",
            "\n",
            "\n",
            "Iteration: 15\n",
            "Train Loss: tensor(0.5109)\n",
            "Train Accuracy: 0.9186991869918699\n",
            "Test Accuracy: 0.8936170212765957\n",
            "\n",
            "\n",
            "\n",
            "Iteration: 16\n",
            "Train Loss: tensor(0.4389)\n",
            "Train Accuracy: 0.9186991869918699\n",
            "Test Accuracy: 0.9361702127659575\n",
            "\n",
            "\n",
            "\n",
            "Iteration: 17\n",
            "Train Loss: tensor(0.3593)\n",
            "Train Accuracy: 0.975609756097561\n",
            "Test Accuracy: 0.9148936170212766\n",
            "\n",
            "\n",
            "\n",
            "Iteration: 18\n",
            "Train Loss: tensor(0.3187)\n",
            "Train Accuracy: 0.975609756097561\n",
            "Test Accuracy: 0.8723404255319149\n",
            "\n",
            "\n",
            "\n",
            "Iteration: 19\n",
            "Train Loss: tensor(0.3309)\n",
            "Train Accuracy: 0.959349593495935\n",
            "Test Accuracy: 0.8723404255319149\n",
            "\n",
            "\n",
            "\n",
            "Iteration: 20\n",
            "Train Loss: tensor(0.3003)\n",
            "Train Accuracy: 0.943089430894309\n",
            "Test Accuracy: 0.9361702127659575\n",
            "\n",
            "\n",
            "\n",
            "Iteration: 21\n",
            "Train Loss: tensor(0.2681)\n",
            "Train Accuracy: 0.991869918699187\n",
            "Test Accuracy: 0.9148936170212766\n",
            "\n",
            "\n",
            "\n",
            "Iteration: 22\n",
            "Train Loss: tensor(0.2396)\n",
            "Train Accuracy: 0.991869918699187\n",
            "Test Accuracy: 0.9361702127659575\n",
            "\n",
            "\n",
            "\n",
            "Iteration: 23\n",
            "Train Loss: tensor(0.2174)\n",
            "Train Accuracy: 0.991869918699187\n",
            "Test Accuracy: 0.9361702127659575\n",
            "\n",
            "\n",
            "\n",
            "Iteration: 24\n",
            "Train Loss: tensor(0.2156)\n",
            "Train Accuracy: 0.991869918699187\n",
            "Test Accuracy: 0.9361702127659575\n",
            "\n",
            "\n",
            "\n",
            "Iteration: 25\n",
            "Train Loss: tensor(0.1869)\n",
            "Train Accuracy: 0.991869918699187\n",
            "Test Accuracy: 0.9361702127659575\n",
            "\n",
            "\n",
            "\n",
            "Iteration: 26\n",
            "Train Loss: tensor(0.1832)\n",
            "Train Accuracy: 0.991869918699187\n",
            "Test Accuracy: 0.9361702127659575\n",
            "\n",
            "\n",
            "\n",
            "Iteration: 27\n",
            "Train Loss: tensor(0.1786)\n",
            "Train Accuracy: 0.991869918699187\n",
            "Test Accuracy: 0.9361702127659575\n",
            "\n",
            "\n",
            "\n",
            "Iteration: 28\n",
            "Train Loss: tensor(0.1596)\n",
            "Train Accuracy: 1.0\n",
            "Test Accuracy: 0.9361702127659575\n",
            "\n",
            "\n",
            "\n",
            "Iteration: 29\n",
            "Train Loss: tensor(0.1477)\n",
            "Train Accuracy: 0.991869918699187\n",
            "Test Accuracy: 0.9361702127659575\n",
            "\n",
            "\n",
            "\n",
            "Iteration: 30\n",
            "Train Loss: tensor(0.1417)\n",
            "Train Accuracy: 1.0\n",
            "Test Accuracy: 0.9361702127659575\n",
            "\n",
            "\n",
            "\n",
            "Iteration: 31\n",
            "Train Loss: tensor(0.1223)\n",
            "Train Accuracy: 1.0\n",
            "Test Accuracy: 0.9361702127659575\n",
            "\n",
            "\n",
            "\n",
            "Iteration: 32\n",
            "Train Loss: tensor(0.1335)\n",
            "Train Accuracy: 1.0\n",
            "Test Accuracy: 0.9361702127659575\n",
            "\n",
            "\n",
            "\n",
            "Iteration: 33\n",
            "Train Loss: tensor(0.1174)\n",
            "Train Accuracy: 1.0\n",
            "Test Accuracy: 0.9361702127659575\n",
            "\n",
            "\n",
            "\n",
            "Iteration: 34\n",
            "Train Loss: tensor(0.1065)\n",
            "Train Accuracy: 1.0\n",
            "Test Accuracy: 0.9361702127659575\n",
            "\n",
            "\n",
            "\n",
            "Iteration: 35\n",
            "Train Loss: tensor(0.1083)\n",
            "Train Accuracy: 1.0\n",
            "Test Accuracy: 0.9361702127659575\n",
            "\n",
            "\n",
            "\n",
            "Iteration: 36\n",
            "Train Loss: tensor(0.1009)\n",
            "Train Accuracy: 1.0\n",
            "Test Accuracy: 0.9361702127659575\n",
            "\n",
            "\n",
            "\n",
            "Iteration: 37\n",
            "Train Loss: tensor(0.0981)\n",
            "Train Accuracy: 1.0\n",
            "Test Accuracy: 0.9361702127659575\n",
            "\n",
            "\n",
            "\n",
            "Iteration: 38\n",
            "Train Loss: tensor(0.1009)\n",
            "Train Accuracy: 1.0\n",
            "Test Accuracy: 0.9361702127659575\n",
            "\n",
            "\n",
            "\n",
            "Iteration: 39\n",
            "Train Loss: tensor(0.0992)\n",
            "Train Accuracy: 1.0\n",
            "Test Accuracy: 0.9361702127659575\n",
            "\n",
            "\n",
            "\n",
            "Iteration: 40\n",
            "Train Loss: tensor(0.0993)\n",
            "Train Accuracy: 1.0\n",
            "Test Accuracy: 0.9361702127659575\n",
            "\n",
            "\n",
            "\n",
            "Iteration: 41\n",
            "Train Loss: tensor(0.0816)\n",
            "Train Accuracy: 1.0\n",
            "Test Accuracy: 0.9361702127659575\n",
            "\n",
            "\n",
            "\n",
            "Iteration: 42\n",
            "Train Loss: tensor(0.0814)\n",
            "Train Accuracy: 1.0\n",
            "Test Accuracy: 0.9361702127659575\n",
            "\n",
            "\n",
            "\n",
            "Iteration: 43\n",
            "Train Loss: tensor(0.0755)\n",
            "Train Accuracy: 1.0\n",
            "Test Accuracy: 0.9361702127659575\n",
            "\n",
            "\n",
            "\n",
            "Iteration: 44\n",
            "Train Loss: tensor(0.0820)\n",
            "Train Accuracy: 1.0\n",
            "Test Accuracy: 0.9361702127659575\n",
            "\n",
            "\n",
            "\n",
            "Iteration: 45\n",
            "Train Loss: tensor(0.0679)\n",
            "Train Accuracy: 1.0\n",
            "Test Accuracy: 0.9361702127659575\n",
            "\n",
            "\n",
            "\n",
            "Iteration: 46\n",
            "Train Loss: tensor(0.0760)\n",
            "Train Accuracy: 1.0\n",
            "Test Accuracy: 0.9361702127659575\n",
            "\n",
            "\n",
            "\n",
            "Iteration: 47\n",
            "Train Loss: tensor(0.0716)\n",
            "Train Accuracy: 1.0\n",
            "Test Accuracy: 0.9361702127659575\n",
            "\n",
            "\n",
            "\n",
            "Iteration: 48\n",
            "Train Loss: tensor(0.0672)\n",
            "Train Accuracy: 1.0\n",
            "Test Accuracy: 0.9361702127659575\n",
            "\n",
            "\n",
            "\n",
            "Iteration: 49\n",
            "Train Loss: tensor(0.0669)\n",
            "Train Accuracy: 1.0\n",
            "Test Accuracy: 0.9361702127659575\n",
            "\n",
            "\n",
            "\n"
          ]
        }
      ]
    },
    {
      "cell_type": "markdown",
      "source": [
        "# **Part 5 - Results and Visualization**\n",
        "\n",
        "This part is divided into the following part - \n",
        "\n",
        "\n",
        "*   Display accuracy\n",
        "\n",
        "*   Show confusion matrix\n",
        "*   Calculate Precision and Recall\n",
        "\n",
        "\n",
        "*   Display all results\n",
        "\n",
        "\n"
      ],
      "metadata": {
        "id": "0xE37xlu5CEG"
      }
    },
    {
      "cell_type": "code",
      "source": [
        "print(\"The highest accuracy among all iteration is \" + str(best_accuracy*100) + \" %\")\n",
        "\n"
      ],
      "metadata": {
        "colab": {
          "base_uri": "https://localhost:8080/"
        },
        "id": "gPARqZ8qwcTr",
        "outputId": "5cb4f46c-5401-4589-edc3-389841714208"
      },
      "execution_count": 32,
      "outputs": [
        {
          "output_type": "stream",
          "name": "stdout",
          "text": [
            "The highest accuracy among all iteration is 93.61702127659575 %\n"
          ]
        }
      ]
    },
    {
      "cell_type": "code",
      "source": [
        "from sklearn.metrics import confusion_matrix\n",
        "from sklearn.metrics import plot_confusion_matrix, ConfusionMatrixDisplay\n",
        "import matplotlib.pyplot as plt\n",
        "import seaborn as sns\n",
        "conmat = confusion_matrix(lbllist_final, predlist_final)\n",
        "#disp = ConfusionMatrixDisplay(confusion_matrix=conmat)\n",
        "#disp.plot()\n",
        "#plt.show()\n",
        "print(conmat)\n",
        "fig, ax = plt.subplots(figsize=(9,9))\n",
        "sns.heatmap(conmat)\n",
        "plt.xlabel('Predicted Values')\n",
        "plt.ylabel('Actual Values')\n",
        "ax.set_title('Heatmap of prediction vs actual labels')\n",
        "plt.show()\n",
        "\n",
        "\n",
        "\n",
        "\n"
      ],
      "metadata": {
        "id": "BUw1E84jUYqZ",
        "colab": {
          "base_uri": "https://localhost:8080/",
          "height": 723
        },
        "outputId": "a3ffe224-a489-48ea-ee39-1a0c946520a6"
      },
      "execution_count": 33,
      "outputs": [
        {
          "output_type": "stream",
          "name": "stdout",
          "text": [
            "[[7 0 0 0 0 0 0 0 0]\n",
            " [0 4 0 0 0 0 0 0 0]\n",
            " [0 0 2 0 0 0 0 0 0]\n",
            " [0 0 0 5 0 0 0 0 0]\n",
            " [0 0 1 0 6 0 0 0 0]\n",
            " [0 0 0 0 0 7 0 0 0]\n",
            " [0 0 0 0 0 0 4 0 0]\n",
            " [1 0 0 0 0 0 0 4 0]\n",
            " [1 0 0 0 0 0 0 0 5]]\n"
          ]
        },
        {
          "output_type": "display_data",
          "data": {
            "image/png": "[encoded data removed]",
            "text/plain": [
              "<Figure size 648x648 with 2 Axes>"
            ]
          },
          "metadata": {
            "needs_background": "light"
          }
        }
      ]
    },
    {
      "cell_type": "code",
      "source": [
        "FP = conmat.sum(axis=0) - np.diag(conmat)  \n",
        "FN = conmat.sum(axis=1) - np.diag(conmat)\n",
        "TP = np.diag(conmat)\n",
        "TN = conmat.sum() - (FP + FN + TP)"
      ],
      "metadata": {
        "id": "H51Xu5qGi4aP"
      },
      "execution_count": 34,
      "outputs": []
    },
    {
      "cell_type": "code",
      "source": [
        "print(FP)\n",
        "print(FN)\n",
        "print(TP)\n",
        "print(TN)"
      ],
      "metadata": {
        "colab": {
          "base_uri": "https://localhost:8080/"
        },
        "id": "jANl4bvijIC-",
        "outputId": "aed1313f-5040-4459-8309-24698e760558"
      },
      "execution_count": 35,
      "outputs": [
        {
          "output_type": "stream",
          "name": "stdout",
          "text": [
            "[2 0 1 0 0 0 0 0 0]\n",
            "[0 0 0 0 1 0 0 1 1]\n",
            "[7 4 2 5 6 7 4 4 5]\n",
            "[38 43 44 42 40 40 43 42 41]\n"
          ]
        }
      ]
    },
    {
      "cell_type": "code",
      "source": [
        "def Precision (TP, FP):\n",
        "  ans = 0\n",
        "  total = 0\n",
        "  for i in range(len(TP)):\n",
        "    total +=1\n",
        "    ans += (TP[i])/(TP[i]+FP[i])\n",
        "  return ans/total "
      ],
      "metadata": {
        "id": "ZoYKhVrjjU5W"
      },
      "execution_count": 36,
      "outputs": []
    },
    {
      "cell_type": "code",
      "source": [
        "def Recall (TP, FN):\n",
        "  ans = 0\n",
        "  total = 0\n",
        "  for i in range(len(TP)):\n",
        "    total +=1\n",
        "    ans += (TP[i])/(TP[i]+FN[i])\n",
        "  return ans/total "
      ],
      "metadata": {
        "id": "UvKPmR9As4M8"
      },
      "execution_count": 37,
      "outputs": []
    },
    {
      "cell_type": "code",
      "source": [
        "print(\"Accuracy of the best model : \", str(best_accuracy*100) + \" %\")\n",
        "print(\"Average Precision of best model :\", str(Precision(TP,FP)*100) + \"%\")\n",
        "print(\"Average Recall of best model :\", str(Recall(TP,FN)*100), \"%\")"
      ],
      "metadata": {
        "colab": {
          "base_uri": "https://localhost:8080/"
        },
        "id": "-8Mlu8iQ0Gpz",
        "outputId": "fd141a30-6e95-491d-e377-0f567f352232"
      },
      "execution_count": 38,
      "outputs": [
        {
          "output_type": "stream",
          "name": "stdout",
          "text": [
            "Accuracy of the best model :  93.61702127659575 %\n",
            "Average Precision of best model : 93.82716049382717%\n",
            "Average Recall of best model : 94.33862433862434 %\n"
          ]
        }
      ]
    },
    {
      "cell_type": "markdown",
      "source": [
        "**Disclaimer - Due to the Training and Testing Set Split being randomized, the accuracy will differ slightly during different uses of this model.**"
      ],
      "metadata": {
        "id": "QP6_swTMdDmA"
      }
    },
    {
      "cell_type": "code",
      "source": [
        ""
      ],
      "metadata": {
        "id": "M81FQNje0Yob"
      },
      "execution_count": null,
      "outputs": []
    },
    {
      "cell_type": "markdown",
      "source": [
        "# **Citations**  \n",
        "\n",
        "This code was created with the help of several online tutorials and books which are listed below - \n",
        "\n",
        "\n",
        "*   Sewak, Mohit, Md Rezaul Karim, and Pradeep Pujari. Practical convolutional neural networks: implement advanced deep learning models using Python. Packt Publishing Ltd, 2018.\n",
        "\n",
        "*   [https://www.youtube.com/watch?v=9OHlgDjaE2I](https://www.youtube.com/watch?v=9OHlgDjaE2I,)\n",
        "\n",
        "*   [https://numpy.org/doc/1.16/reference/generated/numpy.random.RandomState.html](https://numpy.org/doc/1.16/reference/generated/numpy.random.RandomState.html,)\n",
        "*   [https://www.youtube.com/watch?v=7q7E91pHoW4&list=PLqnslRFeH2UrcDBWF5mfPGpqQDSta6VK4&index=11&ab_channel=PythonEngineer](https://www.youtube.com/watch?v=7q7E91pHoW4&list=PLqnslRFeH2UrcDBWF5mfPGpqQDSta6VK4&index=11&ab_channel=PythonEngineer,)\n",
        "\n",
        "\n",
        "*   [https://www.youtube.com/watch?v=pDdP0TFzsoQ&list=PLqnslRFeH2UrcDBWF5mfPGpqQDSta6VK4&index=14&ab_channel=PythonEngineer](https://www.youtube.com/watch?v=pDdP0TFzsoQ&list=PLqnslRFeH2UrcDBWF5mfPGpqQDSta6VK4&index=14&ab_channel=PythonEngineer,)\n",
        "\n",
        "\n",
        "\n",
        "\n",
        "\n",
        "\n"
      ],
      "metadata": {
        "id": "Qdj94Ycs3rXW"
      }
    }
  ]
}